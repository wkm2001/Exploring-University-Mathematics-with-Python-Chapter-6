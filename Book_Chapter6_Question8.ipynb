{
 "cells": [
  {
   "cell_type": "markdown",
   "id": "2baff1e5",
   "metadata": {},
   "source": [
    "# Chapter 6, Question 8\n",
    "\n",
    "Below is the code from crt.ipynb"
   ]
  },
  {
   "cell_type": "code",
   "execution_count": 8,
   "id": "f0791c99",
   "metadata": {},
   "outputs": [
    {
     "name": "stdout",
     "output_type": "stream",
     "text": [
      "Using matplotlib backend: Qt5Agg\n"
     ]
    }
   ],
   "source": [
    "import numpy as np\n",
    "import matplotlib.pyplot as plt\n",
    "from sympy.ntheory.modular import\\\n",
    "     solve_congruence\n",
    "%matplotlib\n",
    "\n",
    "m0 = 7\n",
    "m1 = 8\n",
    "\n",
    "neg = -100\n",
    "\n",
    "def f(i,j):\n",
    "    u = solve_congruence((i, m0), (j, m1))\n",
    "    if u==None:\n",
    "        return neg\n",
    "    else:\n",
    "        return int(u[0])\n",
    "\n",
    "array=np.fromfunction(np.vectorize(f),\n",
    "                   (m0,m1), dtype=int)\n",
    "\n",
    "plt.imshow(array, cmap='magma',          \n",
    "           vmin = neg, vmax = m0*m1)\n",
    "\n",
    "for ind, x in np.ndenumerate(array):\n",
    "    if x!=neg:\n",
    "        plt.text(s = str(x), \n",
    "        x = ind[1], y = ind[0], \n",
    "        va='center', ha='center',fontsize=12)\n",
    "        \n",
    "plt.title(f'x=(#row-1) (mod {m0}) and ' \n",
    "          f'x = (#col-1) (mod {m1})',  \n",
    "          fontsize=12)\n",
    "plt.axis('off')\n",
    "plt.show()"
   ]
  },
  {
   "cell_type": "markdown",
   "id": "bc62dc80",
   "metadata": {},
   "source": [
    "We consider the classical problem in Sunzi Suanjing:\n",
    "“There are an unknown number of things. If we count by threes, the remainder is 2. If we count by fives, the\n",
    "remainder is 3. If we count by sevens, the remainder is 2. Find the number of things.\"\n",
    "\n",
    "When written in modern notation, the problem becomes,\n",
    "\\begin{cases} \n",
    "    x \\equiv 2 \\pmod{3} \\\\ \n",
    "    x \\equiv 3 \\pmod{5} \\\\ \n",
    "    x \\equiv 2 \\pmod{7}\n",
    "\\end{cases}\n",
    "\n",
    "Now, this consider the first equation, $x \\equiv 2 \\pmod{3} \\implies x = 2 + 3n \\quad (n \\in \\mathbb{Z})$\n",
    "\n",
    "By plugging this into the second equation, we get that $2 + 3n \\equiv 3 \\pmod{5} \\implies 3n \\equiv 1 \\pmod{5} \\implies 6n \\equiv 2 \\pmod{5} \\implies n = 2 + 5m \\quad (m \\in \\mathbb{Z})$.\n",
    "\n",
    "Once again we repeat this with the third equation to get that $ 2 + 3 \\cdot (2 + 5m) \\equiv 2 \\pmod{7} \\implies 15m \\equiv -6 \\pmod{7} \\implies m = 1 + 7z \\quad (z \\in \\mathbb{Z})$.\n",
    "\n",
    "Hence, the solution we get is thus $x = 2 + 3 \\cdot (2 + 5 \\cdot (1 + 7z)) = 23 + 105z$. Written differently, the solution is $23$ modulo $105 = 3 \\cdot 5 \\cdot 7$."
   ]
  },
  {
   "cell_type": "code",
   "execution_count": 2,
   "id": "d1fc2929",
   "metadata": {},
   "outputs": [],
   "source": [
    "displaySolution = True\n",
    "\n",
    "def crt(a,b,c):\n",
    "    sol = solve_congruence((a, 3), (b, 5), (c, 7))\n",
    "    if displaySolution:\n",
    "        print(\"The solution is\", sol[0], \"modulo\", sol[1])\n",
    "    else:\n",
    "        if sol == None:\n",
    "            return neg\n",
    "        else:\n",
    "            return int(sol[0])"
   ]
  },
  {
   "cell_type": "markdown",
   "id": "850a0c5d",
   "metadata": {},
   "source": [
    "Above calculates the solution to the generalisation of the problem,\n",
    "\\begin{cases} \n",
    "    x \\equiv a \\pmod{3} \\\\ \n",
    "    x \\equiv b \\pmod{5} \\\\ \n",
    "    x \\equiv c \\pmod{7}\n",
    "\\end{cases}\n",
    "\n",
    "By using the solvability criterion (Theorem 6.9), we can consider the pairwise greatest common divisor of $3$, $5$ and $7$. Since they are all prime, it will always be $1$ and hence the pairwise difference of $a$, $b$ and $c$ will always be divisible by the greatest common divisor of their respective modulus.\n",
    "\n",
    "We can thus input the required parameters to solve the initial problem as shown below."
   ]
  },
  {
   "cell_type": "code",
   "execution_count": 3,
   "id": "fd0cea8e",
   "metadata": {},
   "outputs": [
    {
     "name": "stdout",
     "output_type": "stream",
     "text": [
      "The solution is 23 modulo 105\n"
     ]
    }
   ],
   "source": [
    "displaySolution = True\n",
    "crt(2, 3, 2)"
   ]
  },
  {
   "cell_type": "markdown",
   "id": "3518008c",
   "metadata": {},
   "source": [
    "To see the connection between the solution and the Pigeonhole Principle, we can modify the crt.ipynb code to solve the generalised problem using the function we wrote before. "
   ]
  },
  {
   "cell_type": "code",
   "execution_count": 14,
   "id": "95f1196d",
   "metadata": {},
   "outputs": [],
   "source": [
    "#Modified to include m2\n",
    "m0 = 3\n",
    "m1 = 5\n",
    "m2 = 7\n",
    "\n",
    "#Instead of using f, we can use the crt function defined above\n",
    "displaySolution = False\n",
    "array=np.fromfunction(np.vectorize(crt),\n",
    "                   (3,5,7), dtype=int)\n",
    "\n",
    "#Since we are displaying 3 slices of 5x7 arrays, it is easier to define a function designated to showing a specific slice\n",
    "def displayArray(i):\n",
    "    plt.imshow(array[i], cmap='magma',          \n",
    "               vmin = neg, vmax = m0*m1*m2)\n",
    "\n",
    "    for ind, x in np.ndenumerate(array[i]):\n",
    "        if x!=neg:\n",
    "            plt.text(s = str(x), \n",
    "            x = ind[1], y = ind[0], \n",
    "            va='center', ha='center',fontsize=12)\n",
    "        \n",
    "    plt.title(f'x={i} (mod 3), ' f'x=(#row-1) (mod {m1}) and ' \n",
    "              f'x = (#col-1) (mod {m2})',  \n",
    "              fontsize=12)\n",
    "    plt.axis('off')\n",
    "    plt.show()"
   ]
  },
  {
   "cell_type": "markdown",
   "id": "86daef10",
   "metadata": {},
   "source": [
    "Calling displayArray(2) and looking at the resulting table shows that it matches our solution calculated by hand and by SymPy. Below are the commands to generate the slices for $x = i \\pmod{3}$."
   ]
  },
  {
   "cell_type": "code",
   "execution_count": 15,
   "id": "93ef3aec",
   "metadata": {},
   "outputs": [],
   "source": [
    "displayArray(0)"
   ]
  },
  {
   "cell_type": "code",
   "execution_count": 16,
   "id": "37924602",
   "metadata": {},
   "outputs": [],
   "source": [
    "displayArray(1)"
   ]
  },
  {
   "cell_type": "code",
   "execution_count": 17,
   "id": "5f3e1ef5",
   "metadata": {},
   "outputs": [],
   "source": [
    "displayArray(2)"
   ]
  },
  {
   "cell_type": "code",
   "execution_count": null,
   "id": "8fe12315",
   "metadata": {},
   "outputs": [],
   "source": []
  }
 ],
 "metadata": {
  "kernelspec": {
   "display_name": "Python 3 (ipykernel)",
   "language": "python",
   "name": "python3"
  },
  "language_info": {
   "codemirror_mode": {
    "name": "ipython",
    "version": 3
   },
   "file_extension": ".py",
   "mimetype": "text/x-python",
   "name": "python",
   "nbconvert_exporter": "python",
   "pygments_lexer": "ipython3",
   "version": "3.9.7"
  }
 },
 "nbformat": 4,
 "nbformat_minor": 5
}
