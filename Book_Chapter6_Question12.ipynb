{
 "cells": [
  {
   "cell_type": "markdown",
   "id": "0c370726",
   "metadata": {},
   "source": [
    "# Chapter 6, Question 12\n",
    "\n",
    "Below is the code from pnt.ipynb"
   ]
  },
  {
   "cell_type": "code",
   "execution_count": 9,
   "id": "c55e3900",
   "metadata": {},
   "outputs": [
    {
     "name": "stdout",
     "output_type": "stream",
     "text": [
      "Using matplotlib backend: Qt5Agg\n"
     ]
    }
   ],
   "source": [
    "import numpy as np\n",
    "import matplotlib.pyplot as plt\n",
    "from scipy.integrate import quad\n",
    "from sympy import primepi\n",
    "%matplotlib\n",
    "\n",
    "Nmin=1e1\n",
    "Nmax=1e8\n",
    "\n",
    "Nlist = np.logspace(np.log10(Nmin),\n",
    "                    np.log10(Nmax),300)\n",
    "\n",
    "P = [primepi(n) for n in Nlist] \n",
    "\n",
    "def li(x):\n",
    "    X, err = quad(lambda t: 1/np.log(t),2,x)\n",
    "    return X \n",
    "\n",
    "Li = np.vectorize(li) \n",
    "\n",
    "PNT1 = Nlist/(np.log(Nlist))\n",
    "PNT2 = Li(Nlist)\n",
    "\n",
    "err1 = P/PNT1\n",
    "err2 = P/PNT2\n",
    "\n",
    "plt.semilogx(Nlist, err1, \n",
    "             Nlist, err2,\n",
    "             Nlist, np.ones_like(Nlist),'k--')\n",
    "plt.xlim(Nmin,Nmax)\n",
    "plt.grid()\n",
    "plt.xlabel('x')\n",
    "plt.legend([r'$\\pi(x)/(x/\\ln x)$',\n",
    "            r'$\\pi(x)/Li(x)$'])\n",
    "plt.show()"
   ]
  },
  {
   "cell_type": "markdown",
   "id": "60e45485",
   "metadata": {},
   "source": [
    "We modify the code above to display the top and bottom panels in fig. (6.14) below."
   ]
  },
  {
   "cell_type": "code",
   "execution_count": 10,
   "id": "9dd92995",
   "metadata": {},
   "outputs": [],
   "source": [
    "plt.loglog( Nlist, P, \n",
    "            Nlist, PNT1, \n",
    "             Nlist, PNT2)\n",
    "plt.xlim(Nmin,Nmax)\n",
    "plt.grid()\n",
    "plt.xlabel('x')\n",
    "plt.legend([r'$\\pi(x)$',\n",
    "            r'$x/\\ln x$',\n",
    "            r'$Li(x)$'])\n",
    "plt.show()"
   ]
  },
  {
   "cell_type": "code",
   "execution_count": 11,
   "id": "e4b1e820",
   "metadata": {},
   "outputs": [],
   "source": [
    "plt.loglog( Nlist, P-PNT1, \n",
    "            Nlist, PNT2-P)\n",
    "plt.xlim(Nmin,Nmax)\n",
    "plt.grid()\n",
    "plt.xlabel('x')\n",
    "plt.legend([r'$\\pi(x) - x/\\ln x$',\n",
    "            r'$Li(x) - \\pi(x)$'])\n",
    "plt.show()"
   ]
  },
  {
   "cell_type": "markdown",
   "id": "fd580ab5",
   "metadata": {},
   "source": [
    "Now we will investigate the accuracy of the approximation, $\\pi(x) \\sim \\frac{x}{ln(x)-a}$ for some constant $a$.\n",
    "Legendre found that $a = 1.08366$ and below we will use SciPy's curve_fit function to find the optimal value to see if this is accurate."
   ]
  },
  {
   "cell_type": "code",
   "execution_count": 12,
   "id": "95436c73",
   "metadata": {},
   "outputs": [
    {
     "name": "stdout",
     "output_type": "stream",
     "text": [
      "The optimal value of a is 1.0661296289543447\n"
     ]
    }
   ],
   "source": [
    "from scipy.optimize import curve_fit\n",
    "\n",
    "def approx(Nlist, a):\n",
    "    return Nlist/(np.log(Nlist) - a)\n",
    "\n",
    "best_a, _ = curve_fit(approx, Nlist, P)\n",
    "print(\"The optimal value of a is\", best_a[0])"
   ]
  },
  {
   "cell_type": "markdown",
   "id": "0eff34f1",
   "metadata": {},
   "source": [
    "The resulting optimal value obtained is clearly not very close to Legendre's value of $1.08366$ and we can plot the difference between the actual value with the approximation using the respective $a$ values to see that Legendre's constant is not optimal."
   ]
  },
  {
   "cell_type": "code",
   "execution_count": 14,
   "id": "bb04ab57",
   "metadata": {},
   "outputs": [
    {
     "data": {
      "text/plain": [
       "<matplotlib.legend.Legend at 0x29654b14d90>"
      ]
     },
     "execution_count": 14,
     "metadata": {},
     "output_type": "execute_result"
    }
   ],
   "source": [
    "plt.semilogx(Nlist, P-approx(Nlist, best_a), \n",
    "             Nlist, P-approx(Nlist, 1.08366))\n",
    "plt.xlim(Nmin,Nmax)\n",
    "plt.grid()\n",
    "plt.xlabel('x')\n",
    "plt.legend([f'$a = {best_a[0]}$',\n",
    "            r'$a = 1.08366$'])"
   ]
  },
  {
   "cell_type": "code",
   "execution_count": null,
   "id": "86f8cb59",
   "metadata": {},
   "outputs": [],
   "source": []
  }
 ],
 "metadata": {
  "kernelspec": {
   "display_name": "Python 3 (ipykernel)",
   "language": "python",
   "name": "python3"
  },
  "language_info": {
   "codemirror_mode": {
    "name": "ipython",
    "version": 3
   },
   "file_extension": ".py",
   "mimetype": "text/x-python",
   "name": "python",
   "nbconvert_exporter": "python",
   "pygments_lexer": "ipython3",
   "version": "3.9.7"
  }
 },
 "nbformat": 4,
 "nbformat_minor": 5
}
