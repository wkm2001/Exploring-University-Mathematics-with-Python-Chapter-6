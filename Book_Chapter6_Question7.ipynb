{
 "cells": [
  {
   "cell_type": "markdown",
   "id": "1fe70b7b",
   "metadata": {},
   "source": [
    "# Chapter 6, Question 7\n",
    "\n",
    "Below is the code from inversewheel.ipynb"
   ]
  },
  {
   "cell_type": "code",
   "execution_count": 1,
   "id": "21e8ce1f",
   "metadata": {},
   "outputs": [
    {
     "name": "stdout",
     "output_type": "stream",
     "text": [
      "Using matplotlib backend: Qt5Agg\n"
     ]
    }
   ],
   "source": [
    "import numpy as np\n",
    "import matplotlib.pyplot as plt\n",
    "%matplotlib\n",
    "\n",
    "def inversewheel(n, label):\n",
    "    plt.clf()\n",
    "    t = np.linspace(0,2*np.pi)\n",
    "    plt.plot(np.cos(t), np.sin(t), 'b')\n",
    "\n",
    "    A=[a for a in range(1,n+1) if np.gcd(a,n)==1]\n",
    "    B=[pow(a,-1,n) for a in A]\n",
    "\n",
    "    for i, a in enumerate(A):\n",
    "        tA, tB = 2*np.pi*a/n, 2*np.pi*B[i]/n\n",
    "        xA, yA = np.cos(tA), np.sin(tA)\n",
    "        xB, yB = np.cos(tB), np.sin(tB)\n",
    "        plt.plot([xA, xB], [yA, yB], 'ro-')\n",
    "        if (label):\n",
    "            plt.text(x= 1.1*xA, y= 1.1*yA, s = a, \n",
    "            fontsize=9, ha='center', va='center')\n",
    "    \n",
    "    plt.axis('square')\n",
    "    plt.axis('off')\n",
    "    plt.show()\n"
   ]
  },
  {
   "cell_type": "markdown",
   "id": "6ad15426",
   "metadata": {},
   "source": [
    "Consider the prime factorisation of $203$ and $204$. Clearly, $203 = 7 \\cdot 29$ and $204 = 2 \\cdot 2 \\cdot 3 \\cdot 17$. By observing their factorisations, we can see that there are fewer numbers coprime to $204$ and hence by applying Theorem 6.7, we can see that there are fewer numbers with multiplicative inverse modulo $204$. This leads to the different patterns with $203$ appearing busier.\n",
    "\n",
    "To count the number of lines we need to consider two things, if the number is coprime with $n$ and if its inverse is itself. This is because if a number is coprime to $n$ then it will not have a multiplicative inverse so will not produce a line and likewise, if a number has itself as its inverse then no line will be produced too. This can be done by modifying the code to consider these cases and count accordingly.\n",
    "\n",
    "For $n = 203$, there are $82$ lines and for $n = 204$, there are $28$ lines."
   ]
  },
  {
   "cell_type": "code",
   "execution_count": 2,
   "id": "ff96622f",
   "metadata": {},
   "outputs": [],
   "source": [
    "inversewheel(203, True)"
   ]
  },
  {
   "cell_type": "code",
   "execution_count": 3,
   "id": "51a98f8e",
   "metadata": {},
   "outputs": [],
   "source": [
    "inversewheel(204, True)"
   ]
  },
  {
   "cell_type": "markdown",
   "id": "c1ce3433",
   "metadata": {},
   "source": [
    "Below we use the fact that the pattern has a horizontal line of symmetry to make the code more efficient."
   ]
  },
  {
   "cell_type": "code",
   "execution_count": 24,
   "id": "fb6285d0",
   "metadata": {},
   "outputs": [],
   "source": [
    "def modifiedinversewheel(n, label):\n",
    "    plt.clf()\n",
    "    t = np.linspace(0,2*np.pi)\n",
    "    plt.plot(np.cos(t), np.sin(t), 'b')\n",
    "\n",
    "    #Halves the points so only the top half is considered\n",
    "    points = np.ceil(n/2).astype(int)\n",
    "    \n",
    "    A=[a for a in range(1,points) if np.gcd(a,n)==1]\n",
    "    B=[pow(a,-1,n) for a in A]\n",
    "\n",
    "    lineCount = 0\n",
    "    \n",
    "    for i, a in enumerate(A):\n",
    "        tA, tB = 2*np.pi*a/n, 2*np.pi*B[i]/n\n",
    "        xA, yA = np.cos(tA), np.sin(tA)\n",
    "        xB, yB = np.cos(tB), np.sin(tB)\n",
    "        plt.plot([xA, xB], [yA, yB], 'ro-')\n",
    "        \n",
    "        #Counts the number of lines\n",
    "        if  tA != tB:\n",
    "            lineCount = lineCount + 1\n",
    "        \n",
    "        #Plots the reflected lines\n",
    "        plt.plot([xA, xB], [-yA, -yB], 'ro-')\n",
    "        \n",
    "        if (label):\n",
    "            plt.text(x= 1.1*xA, y= 1.1*yA, s = a, \n",
    "            fontsize=9, ha='center', va='center')\n",
    "            \n",
    "            #Adds reflected labels\n",
    "            plt.text(x= 1.1*xA, y= -1.1*yA, s = n-a, \n",
    "            fontsize=9, ha='center', va='center')\n",
    "    \n",
    "    print(\"There are\", lineCount, \"lines.\")\n",
    "    \n",
    "    plt.axis('square')\n",
    "    plt.axis('off')\n",
    "    plt.show()"
   ]
  },
  {
   "cell_type": "code",
   "execution_count": 26,
   "id": "f8c8a947",
   "metadata": {},
   "outputs": [
    {
     "name": "stdout",
     "output_type": "stream",
     "text": [
      "There are 82 lines.\n"
     ]
    }
   ],
   "source": [
    "modifiedinversewheel(203, True)"
   ]
  },
  {
   "cell_type": "code",
   "execution_count": 27,
   "id": "7a04328c",
   "metadata": {},
   "outputs": [
    {
     "name": "stdout",
     "output_type": "stream",
     "text": [
      "There are 28 lines.\n"
     ]
    }
   ],
   "source": [
    "modifiedinversewheel(204, True)"
   ]
  },
  {
   "cell_type": "code",
   "execution_count": null,
   "id": "54b98eb5",
   "metadata": {},
   "outputs": [],
   "source": []
  }
 ],
 "metadata": {
  "kernelspec": {
   "display_name": "Python 3 (ipykernel)",
   "language": "python",
   "name": "python3"
  },
  "language_info": {
   "codemirror_mode": {
    "name": "ipython",
    "version": 3
   },
   "file_extension": ".py",
   "mimetype": "text/x-python",
   "name": "python",
   "nbconvert_exporter": "python",
   "pygments_lexer": "ipython3",
   "version": "3.9.7"
  }
 },
 "nbformat": 4,
 "nbformat_minor": 5
}
